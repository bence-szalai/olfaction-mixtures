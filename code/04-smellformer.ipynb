{
 "cells": [
  {
   "cell_type": "code",
   "execution_count": 54,
   "id": "47bcc77b-538a-421d-83ff-b39b0809af34",
   "metadata": {},
   "outputs": [],
   "source": [
    "import pandas as pd\n",
    "import numpy as np\n",
    "import torch\n",
    "\n",
    "import seaborn as sns\n",
    "\n",
    "from scipy.stats import pearsonr\n",
    "\n",
    "from tqdm import tqdm"
   ]
  },
  {
   "cell_type": "markdown",
   "id": "973242ae-5f75-48e7-8101-8b8a24f55b2d",
   "metadata": {},
   "source": [
    "### Preprocess data"
   ]
  },
  {
   "cell_type": "code",
   "execution_count": 496,
   "id": "4c11198c-fbe8-46ff-9147-7bd236b5b469",
   "metadata": {},
   "outputs": [],
   "source": [
    "smell_vectors = pd.read_csv('../results/features/mono-descriptors-v1.csv',\n",
    "                           sep=',', index_col=0)\n",
    "### zscore\n",
    "smell_vectors = (smell_vectors - smell_vectors.mean()) / smell_vectors.std()\n",
    "### padding\n",
    "smell_vectors.loc[0] = 0\n",
    "smell_vectors = smell_vectors.sort_index()"
   ]
  },
  {
   "cell_type": "code",
   "execution_count": 497,
   "id": "ef524258-5067-4673-9660-f81919bab408",
   "metadata": {},
   "outputs": [],
   "source": [
    "### map CID to index\n",
    "mapping = pd.Series(range(len(smell_vectors.index)), index=smell_vectors.index)"
   ]
  },
  {
   "cell_type": "code",
   "execution_count": 498,
   "id": "b86feda3-ecfd-4161-bcbd-8878e5c7502e",
   "metadata": {},
   "outputs": [],
   "source": [
    "mixtures_tr = pd.read_csv('../data/olfaction_mixture/Mixure_Definitions_Training_set.csv')\n",
    "mixtures_lb = pd.read_csv('../data/olfaction_mixture/Mixure_Definitions_Leaderboard_set.csv')\n",
    "mixtures_ts = pd.read_csv('../data/olfaction_mixture/Mixure_Definitions_test_set.csv')\n",
    "mixtures_tr.index = mixtures_tr['Dataset'] + '_' + mixtures_tr['Mixture Label'].astype(str)\n",
    "mixtures_lb.index = mixtures_lb['Dataset'] + '_' + mixtures_lb['Mixture Label'].astype(str)\n",
    "mixtures_ts.index = mixtures_ts['Mixture Label'].astype(str)\n",
    "mixtures_tr = mixtures_tr.iloc[:, 2:]\n",
    "mixtures_lb = mixtures_lb.iloc[:, 2:]\n",
    "mixtures_ts = mixtures_ts.iloc[:, 1:]"
   ]
  },
  {
   "cell_type": "code",
   "execution_count": 499,
   "id": "c6f50f01-067f-4680-a4ca-e35048d906b9",
   "metadata": {},
   "outputs": [],
   "source": [
    "### replace missing cids with 0\n",
    "for i in mixtures_tr.index:\n",
    "    for c in mixtures_tr.columns:\n",
    "        comp = mixtures_tr.loc[i, c]\n",
    "        if comp not in smell_vectors.index:\n",
    "            mixtures_tr.loc[i, c] = 0\n",
    "\n",
    "for i in mixtures_lb.index:\n",
    "    for c in mixtures_lb.columns:\n",
    "        comp = mixtures_lb.loc[i, c]\n",
    "        if comp not in smell_vectors.index:\n",
    "            mixtures_lb.loc[i, c] = 0\n",
    "\n",
    "\n",
    "for i in mixtures_ts.index:\n",
    "    for c in mixtures_ts.columns:\n",
    "        comp = mixtures_ts.loc[i, c]\n",
    "        if comp not in smell_vectors.index:\n",
    "            mixtures_ts.loc[i, c] = 0"
   ]
  },
  {
   "cell_type": "code",
   "execution_count": 500,
   "id": "5eaa7ec4-21cc-482a-a076-032eceedb290",
   "metadata": {},
   "outputs": [],
   "source": [
    "### cid - index mapping\n",
    "for c in mixtures_tr.columns:\n",
    "    mixtures_tr[c] = mixtures_tr[c].map(mapping)\n",
    "\n",
    "for c in mixtures_lb.columns:\n",
    "    mixtures_lb[c] = mixtures_lb[c].map(mapping)\n",
    "\n",
    "for c in mixtures_ts.columns:\n",
    "    mixtures_ts[c] = mixtures_ts[c].map(mapping)"
   ]
  },
  {
   "cell_type": "code",
   "execution_count": 501,
   "id": "651ab480-acea-4c82-9406-8ae6ef3793c7",
   "metadata": {},
   "outputs": [],
   "source": [
    "pairs_df_tr = pd.read_csv('../data/olfaction_mixture/TrainingData_mixturedist.csv')\n",
    "fil = pairs_df_tr.isna().sum(1)<4\n",
    "pairs_df_tr = pairs_df_tr[fil]\n",
    "pairs_df_tr['Mixture 1'] = pairs_df_tr['Dataset'] + '_' + pairs_df_tr['Mixture 1'].astype(int).astype(str)\n",
    "pairs_df_tr['Mixture 2'] = pairs_df_tr['Dataset'] + '_' + pairs_df_tr['Mixture 2'].astype(int).astype(str)\n",
    "pairs_df_tr = pairs_df_tr.iloc[:, 1:]"
   ]
  },
  {
   "cell_type": "code",
   "execution_count": 502,
   "id": "c0c7d62c-af06-4d87-8217-02378adfc210",
   "metadata": {},
   "outputs": [],
   "source": [
    "pairs_df_lb = pd.read_csv('../data/olfaction_mixture/Leaderboard_set_Submission_form.csv')\n",
    "pairs_df_lb['Mixture 1'] = pairs_df_lb['Dataset'] + '_' + pairs_df_lb['Mixture_1'].astype(int).astype(str)\n",
    "pairs_df_lb['Mixture 2'] = pairs_df_lb['Dataset'] + '_' + pairs_df_lb['Mixture_2'].astype(int).astype(str)\n",
    "pairs_df_lb = pairs_df_lb[['Mixture 1', 'Mixture 2', 'Predicted_Experimental_Values']]\n",
    "pairs_df_lb.columns = ['Mixture 1', 'Mixture 2', 'Experimental Values']"
   ]
  },
  {
   "cell_type": "code",
   "execution_count": 503,
   "id": "04226240-250b-4267-a6e2-6f55d863f233",
   "metadata": {},
   "outputs": [],
   "source": [
    "pairs_df_ts = pd.read_csv('../data/olfaction_mixture/Test_set_Submission_form.csv')\n",
    "pairs_df_ts['Mixture 1'] = pairs_df_ts['Mixture_1'].astype(int).astype(str)\n",
    "pairs_df_ts['Mixture 2'] = pairs_df_ts['Mixture_2'].astype(int).astype(str)\n",
    "pairs_df_ts = pairs_df_ts[['Mixture 1', 'Mixture 2', 'Predicted_Experimental_Values']]\n",
    "pairs_df_ts.columns = ['Mixture 1', 'Mixture 2', 'Experimental Values']"
   ]
  },
  {
   "cell_type": "code",
   "execution_count": 504,
   "id": "e1492562-daf0-4093-83c6-ad7753d9d96d",
   "metadata": {},
   "outputs": [],
   "source": [
    "### train and validation data for testing the model\n",
    "tr = list(np.random.choice(pairs_df_tr.index, 400, False))\n",
    "ts = list(set(pairs_df_tr.index) - set(tr))\n",
    "pairs_df_tr_tr = pairs_df_tr.loc[tr]\n",
    "pairs_df_tr_val = pairs_df_tr.loc[ts]"
   ]
  },
  {
   "cell_type": "markdown",
   "id": "de367446-3fb0-42f8-82cf-63b86164a767",
   "metadata": {},
   "source": [
    "### Dataloader"
   ]
  },
  {
   "cell_type": "code",
   "execution_count": 505,
   "id": "b15fe692-3f92-454c-8f89-5b25a8976db0",
   "metadata": {},
   "outputs": [],
   "source": [
    "from torch.utils.data import Dataset, DataLoader\n",
    "from torch.nn.utils.rnn import pad_sequence\n",
    "\n",
    "class OdorantDataset(Dataset):\n",
    "    def __init__(self, composition_df, pairs_df, smell_vectors):\n",
    "        self.composition_df = composition_df\n",
    "        self.pairs_df = pairs_df\n",
    "        self.smell_vectors = smell_vectors\n",
    "        self.mixture_dict = self._build_mixture_dict()\n",
    "    \n",
    "    def _build_mixture_dict(self):\n",
    "        mixture_dict = {}\n",
    "        for idx, row in self.composition_df.iterrows():\n",
    "            mixture_id = idx\n",
    "            chemical_ids = [x for x in list(row) if x!=0]\n",
    "            mixture_dict[mixture_id] = chemical_ids\n",
    "        return mixture_dict\n",
    "    \n",
    "    def __len__(self):\n",
    "        return len(self.pairs_df)\n",
    "    \n",
    "    def __getitem__(self, idx):\n",
    "        row = self.pairs_df.iloc[idx]\n",
    "        mixture1_id = row['Mixture 1']\n",
    "        mixture2_id = row['Mixture 2']\n",
    "        similarity = row['Experimental Values']\n",
    "\n",
    "        input_ids1 = torch.tensor(self.mixture_dict[mixture1_id])\n",
    "        input_ids2 = torch.tensor(self.mixture_dict[mixture2_id])\n",
    "        #input_ids1 = self._get_input_ids(mixture1_id)\n",
    "        #input_ids2 = self._get_input_ids(mixture2_id)\n",
    "        return input_ids1, input_ids2, similarity\n",
    "    \n",
    "    def _get_input_ids(self, mixture_id):\n",
    "        chemical_ids = self.mixture_dict[mixture_id]\n",
    "        input_ids = [self.smell_vectors.loc[chem_id] for chem_id in chemical_ids]\n",
    "        input_ids = torch.tensor(input_ids, dtype=torch.float32)\n",
    "        return input_ids\n",
    "\n",
    "def collate_fn(batch):\n",
    "    input_ids1, input_ids2, similarities = zip(*batch)\n",
    "    \n",
    "    input_ids1_padded = pad_sequence(input_ids1, batch_first=True)\n",
    "    input_ids2_padded = pad_sequence(input_ids2, batch_first=True)\n",
    "    \n",
    "    attention_mask1 = (input_ids1_padded != 0).float()\n",
    "    attention_mask2 = (input_ids2_padded != 0).float()\n",
    "    \n",
    "    similarities = torch.tensor(similarities, dtype=torch.float32)\n",
    "    \n",
    "    return input_ids1_padded, attention_mask1, input_ids2_padded, attention_mask2, similarities\n",
    "\n",
    "# Create the dataset and dataloader\n",
    "dataset_tr = OdorantDataset(mixtures_tr, pairs_df_tr, smell_vectors)\n",
    "dataset_tr_tr = OdorantDataset(mixtures_tr, pairs_df_tr_tr, smell_vectors)\n",
    "dataset_tr_val = OdorantDataset(mixtures_tr, pairs_df_tr_val, smell_vectors)\n",
    "dataset_lead = OdorantDataset(mixtures_lb, pairs_df_lb, smell_vectors)\n",
    "dataset_test = OdorantDataset(mixtures_ts, pairs_df_ts, smell_vectors)\n",
    "train_dataloader = DataLoader(dataset_tr, batch_size=16, shuffle=True, collate_fn=collate_fn)\n",
    "train_dataloader_tr = DataLoader(dataset_tr_tr, batch_size=16, shuffle=True, collate_fn=collate_fn)\n",
    "train_dataloader_val = DataLoader(dataset_tr_val, batch_size=16, shuffle=False, collate_fn=collate_fn)\n",
    "lead_dataloader = DataLoader(dataset_lead, batch_size=16, shuffle=False, collate_fn=collate_fn)\n",
    "test_dataloader = DataLoader(dataset_test, batch_size=16, shuffle=False, collate_fn=collate_fn)"
   ]
  },
  {
   "cell_type": "markdown",
   "id": "f295555c-1f53-4ec5-a577-6c7448bec0e3",
   "metadata": {},
   "source": [
    "### Make model with cross-attention"
   ]
  },
  {
   "cell_type": "code",
   "execution_count": 506,
   "id": "d80eec63-0891-496d-bae0-6035994e5b59",
   "metadata": {},
   "outputs": [],
   "source": [
    "import torch\n",
    "import torch.nn as nn\n",
    "import torch.optim as optim\n",
    "\n",
    "class FixedEmbeddingLayer(nn.Module):\n",
    "    def __init__(self, embedding_matrix):\n",
    "        super(FixedEmbeddingLayer, self).__init__()\n",
    "        self.embedding = nn.Embedding.from_pretrained(torch.tensor(embedding_matrix, dtype=torch.float32), freeze=True)\n",
    "    \n",
    "    def forward(self, x):\n",
    "        return self.embedding(x)\n",
    "\n",
    "class CrossAttention(nn.Module):\n",
    "    def __init__(self, input_dim):\n",
    "        super(CrossAttention, self).__init__()\n",
    "        self.query1 = nn.Linear(input_dim, input_dim)\n",
    "        self.key1 = nn.Linear(input_dim, input_dim)\n",
    "        self.value1 = nn.Linear(input_dim, input_dim)\n",
    "\n",
    "        self.query2 = nn.Linear(input_dim, input_dim)\n",
    "        self.key2 = nn.Linear(input_dim, input_dim)\n",
    "        self.value2 = nn.Linear(input_dim, input_dim)\n",
    "        \n",
    "        self.softmax = nn.Softmax(dim=-1)\n",
    "    \n",
    "    def forward(self, x1, x2, mask1, mask2):\n",
    "        query1 = self.query1(x1)\n",
    "        key2 = self.key2(x2)\n",
    "        value2 = self.value2(x2)\n",
    "\n",
    "        query2 = self.query2(x2)\n",
    "        key1 = self.key1(x1)\n",
    "        value1 = self.value1(x1)\n",
    "\n",
    "        #scores1 = torch.matmul(query1, key2.transpose(-2, -1)) / torch.sqrt(torch.tensor(x1.size(-1), dtype=torch.float32))\n",
    "        #scores2 = torch.matmul(query2, key1.transpose(-2, -1)) / torch.sqrt(torch.tensor(x2.size(-1), dtype=torch.float32))\n",
    "\n",
    "        scores1 = torch.matmul(query1, key1.transpose(-2, -1)) / torch.sqrt(torch.tensor(x1.size(-1), dtype=torch.float32))\n",
    "        scores2 = torch.matmul(query2, key2.transpose(-2, -1)) / torch.sqrt(torch.tensor(x2.size(-1), dtype=torch.float32))\n",
    "        \n",
    "        #mask1 = mask1.unsqueeze(2).repeat(1, 1, x2.size(1))\n",
    "        #mask2 = mask2.unsqueeze(2).repeat(1, 1, x1.size(1))\n",
    "\n",
    "        mask1 = mask1.unsqueeze(2).repeat(1, 1, x1.size(1))\n",
    "        mask2 = mask2.unsqueeze(2).repeat(1, 1, x2.size(1))\n",
    "\n",
    "        scores1 = scores1.masked_fill(mask1 == 0, -1e9)\n",
    "        scores2 = scores2.masked_fill(mask2 == 0, -1e9)\n",
    "\n",
    "        weights1 = self.softmax(scores1)\n",
    "        weights2 = self.softmax(scores2)\n",
    "\n",
    "        #context1 = torch.matmul(weights1, value2).mean(dim=1)\n",
    "        #context2 = torch.matmul(weights2, value1).mean(dim=1)\n",
    "\n",
    "        context1 = torch.matmul(weights1, value1).mean(dim=1)\n",
    "        context2 = torch.matmul(weights2, value2).mean(dim=1)\n",
    "\n",
    "        return context1, context2\n",
    "\n",
    "class OdorantCrossAttentionModel(nn.Module):\n",
    "    def __init__(self, embedding_matrix):\n",
    "        super(OdorantCrossAttentionModel, self).__init__()\n",
    "        self.embedding_layer = FixedEmbeddingLayer(embedding_matrix)\n",
    "        self.cross_attention = CrossAttention(input_dim=embedding_matrix.shape[1])\n",
    "        self.fc1 = nn.Linear(embedding_matrix.shape[1] * 2, 128)\n",
    "        self.fc2 = nn.Linear(128, 1)\n",
    "        self.relu = nn.ReLU()\n",
    "    \n",
    "    def forward(self, input_ids1, attention_mask1, input_ids2, attention_mask2):\n",
    "        embeddings1 = self.embedding_layer(input_ids1)\n",
    "        embeddings2 = self.embedding_layer(input_ids2)\n",
    "        \n",
    "        context1, context2 = self.cross_attention(embeddings1, embeddings2, attention_mask1, attention_mask2)\n",
    "        \n",
    "        combined = torch.cat((context1, context2), dim=1)\n",
    "        x = self.relu(self.fc1(combined))\n",
    "        x = self.fc2(x)\n",
    "        return x\n",
    "\n",
    "# Example embedding matrix (replace with your actual smell vectors)\n",
    "embedding_matrix = smell_vectors.values\n",
    "\n",
    "def train_model(model, train_dataloader, val_dataloader, epochs, learning_rate):\n",
    "    optimizer = optim.Adam(model.parameters(), lr=learning_rate)\n",
    "    loss_fn = nn.MSELoss()\n",
    "    val_los_min = 1000\n",
    "    \n",
    "    for epoch in range(epochs):\n",
    "        model.train()\n",
    "        total_loss = 0\n",
    "        for batch in train_dataloader:\n",
    "            input_ids1, attention_mask1, input_ids2, attention_mask2, labels = batch\n",
    "            optimizer.zero_grad()\n",
    "            predictions = model(input_ids1, attention_mask1, input_ids2, attention_mask2)\n",
    "            loss = loss_fn(predictions.squeeze(), labels)\n",
    "            loss.backward()\n",
    "            optimizer.step()\n",
    "            total_loss += loss.item()\n",
    "        avg_train_loss = total_loss / len(train_dataloader)\n",
    "\n",
    "        model.eval()\n",
    "        total_val_loss = 0\n",
    "        with torch.no_grad():\n",
    "            for batch in val_dataloader:\n",
    "                input_ids1, attention_mask1, input_ids2, attention_mask2, labels = batch\n",
    "                predictions = model(input_ids1, attention_mask1, input_ids2, attention_mask2)\n",
    "                loss = loss_fn(predictions.squeeze(), labels)\n",
    "                total_val_loss += loss.item()\n",
    "        \n",
    "        avg_val_loss = total_val_loss / len(val_dataloader)\n",
    "        \n",
    "        if epoch % 10 == 0:\n",
    "            print(f\"Epoch {epoch+1}/{epochs}, Train Loss: {avg_train_loss:.4f}, Validation Loss: {avg_val_loss:.4f}\")\n",
    "    \n",
    "    print(f\"Epoch {epoch+1}/{epochs}, Train Loss: {avg_train_loss:.4f}, Validation Loss: {avg_val_loss:.4f}\")\n",
    "    \n",
    "def predict(model, dataloader):\n",
    "    model.eval()\n",
    "    predictions = []\n",
    "    actuals = []\n",
    "    with torch.no_grad():\n",
    "        for batch in dataloader:\n",
    "            input_ids1, attention_mask1, input_ids2, attention_mask2, labels = batch\n",
    "            preds = model(input_ids1, attention_mask1, input_ids2, attention_mask2)\n",
    "            predictions.append(preds.squeeze().numpy())\n",
    "            actuals.append(labels.numpy())\n",
    "    return predictions, actuals"
   ]
  },
  {
   "cell_type": "code",
   "execution_count": 507,
   "id": "d4105134-aae9-4477-a1ee-12861728879c",
   "metadata": {},
   "outputs": [
    {
     "name": "stdout",
     "output_type": "stream",
     "text": [
      "Epoch 1/200, Train Loss: 0.4608, Validation Loss: 0.4531\n",
      "Epoch 11/200, Train Loss: 0.0337, Validation Loss: 0.0430\n",
      "Epoch 21/200, Train Loss: 0.0236, Validation Loss: 0.0322\n",
      "Epoch 31/200, Train Loss: 0.0228, Validation Loss: 0.0318\n",
      "Epoch 41/200, Train Loss: 0.0221, Validation Loss: 0.0317\n",
      "Epoch 51/200, Train Loss: 0.0213, Validation Loss: 0.0318\n",
      "Epoch 61/200, Train Loss: 0.0208, Validation Loss: 0.0318\n",
      "Epoch 71/200, Train Loss: 0.0205, Validation Loss: 0.0324\n",
      "Epoch 81/200, Train Loss: 0.0195, Validation Loss: 0.0318\n",
      "Epoch 91/200, Train Loss: 0.0193, Validation Loss: 0.0321\n",
      "Epoch 101/200, Train Loss: 0.0188, Validation Loss: 0.0325\n",
      "Epoch 111/200, Train Loss: 0.0182, Validation Loss: 0.0322\n",
      "Epoch 121/200, Train Loss: 0.0178, Validation Loss: 0.0318\n",
      "Epoch 131/200, Train Loss: 0.0168, Validation Loss: 0.0320\n",
      "Epoch 141/200, Train Loss: 0.0161, Validation Loss: 0.0323\n",
      "Epoch 151/200, Train Loss: 0.0156, Validation Loss: 0.0332\n",
      "Epoch 161/200, Train Loss: 0.0144, Validation Loss: 0.0329\n",
      "Epoch 171/200, Train Loss: 0.0142, Validation Loss: 0.0331\n",
      "Epoch 181/200, Train Loss: 0.0133, Validation Loss: 0.0333\n",
      "Epoch 191/200, Train Loss: 0.0132, Validation Loss: 0.0331\n",
      "Epoch 200/200, Train Loss: 0.0130, Validation Loss: 0.0346\n"
     ]
    }
   ],
   "source": [
    "### testing the model\n",
    "model = OdorantCrossAttentionModel(embedding_matrix)\n",
    "train_model(model, train_dataloader_tr, train_dataloader_val, epochs=200, learning_rate=1e-4)"
   ]
  },
  {
   "cell_type": "code",
   "execution_count": 508,
   "id": "5793192b-e459-478f-948c-79f9460456f0",
   "metadata": {},
   "outputs": [],
   "source": [
    "p, t = predict(model, train_dataloader_val)\n",
    "p = np.concatenate(p)\n",
    "t = np.concatenate(t)"
   ]
  },
  {
   "cell_type": "code",
   "execution_count": 509,
   "id": "d08ff629-1ef7-4032-a612-145d66e5b915",
   "metadata": {},
   "outputs": [],
   "source": [
    "import seaborn as sns\n",
    "from sklearn.metrics import mean_squared_error"
   ]
  },
  {
   "cell_type": "code",
   "execution_count": 510,
   "id": "766f45e7-0ef1-480b-b128-c36339712c7a",
   "metadata": {},
   "outputs": [
    {
     "data": {
      "text/plain": [
       "(PearsonRResult(statistic=0.38185978754844163, pvalue=8.846546141429554e-05),\n",
       " 0.026965974)"
      ]
     },
     "execution_count": 510,
     "metadata": {},
     "output_type": "execute_result"
    },
    {
     "data": {
      "image/png": "[encoded data removed]",
      "text/plain": [
       "<Figure size 640x480 with 1 Axes>"
      ]
     },
     "metadata": {},
     "output_type": "display_data"
    }
   ],
   "source": [
    "sns.scatterplot(x=p, y=t)\n",
    "pearsonr(p, t), mean_squared_error(p, t)"
   ]
  },
  {
   "cell_type": "code",
   "execution_count": 419,
   "id": "bb63c795-1839-4043-b0c0-ec55bb2eb1bf",
   "metadata": {},
   "outputs": [
    {
     "name": "stdout",
     "output_type": "stream",
     "text": [
      "Epoch 1/200, Train Loss: 0.3369, Validation Loss: 0.3132\n",
      "Epoch 11/200, Train Loss: 0.0270, Validation Loss: 0.0291\n",
      "Epoch 21/200, Train Loss: 0.0238, Validation Loss: 0.0247\n",
      "Epoch 31/200, Train Loss: 0.0220, Validation Loss: 0.0237\n",
      "Epoch 41/200, Train Loss: 0.0211, Validation Loss: 0.0233\n",
      "Epoch 51/200, Train Loss: 0.0207, Validation Loss: 0.0232\n",
      "Epoch 61/200, Train Loss: 0.0194, Validation Loss: 0.0226\n",
      "Epoch 71/200, Train Loss: 0.0194, Validation Loss: 0.0219\n",
      "Epoch 81/200, Train Loss: 0.0195, Validation Loss: 0.0217\n",
      "Epoch 91/200, Train Loss: 0.0184, Validation Loss: 0.0213\n",
      "Epoch 101/200, Train Loss: 0.0188, Validation Loss: 0.0209\n",
      "Epoch 111/200, Train Loss: 0.0181, Validation Loss: 0.0195\n",
      "Epoch 121/200, Train Loss: 0.0178, Validation Loss: 0.0188\n",
      "Epoch 131/200, Train Loss: 0.0179, Validation Loss: 0.0185\n",
      "Epoch 141/200, Train Loss: 0.0168, Validation Loss: 0.0179\n",
      "Epoch 151/200, Train Loss: 0.0158, Validation Loss: 0.0168\n",
      "Epoch 161/200, Train Loss: 0.0161, Validation Loss: 0.0164\n",
      "Epoch 171/200, Train Loss: 0.0160, Validation Loss: 0.0155\n",
      "Epoch 181/200, Train Loss: 0.0151, Validation Loss: 0.0151\n",
      "Epoch 191/200, Train Loss: 0.0148, Validation Loss: 0.0146\n",
      "Epoch 200/200, Train Loss: 0.0142, Validation Loss: 0.0137\n"
     ]
    }
   ],
   "source": [
    "model = OdorantCrossAttentionModel(embedding_matrix)\n",
    "train_model(model, train_dataloader, train_dataloader_val, epochs=200, learning_rate=1e-4)"
   ]
  },
  {
   "cell_type": "code",
   "execution_count": 420,
   "id": "7b930d10-431a-41b6-b122-0b6642aa04fa",
   "metadata": {},
   "outputs": [],
   "source": [
    "p, t = predict(model, lead_dataloader)\n",
    "p = np.concatenate(p)\n",
    "t = np.concatenate(t)"
   ]
  },
  {
   "cell_type": "code",
   "execution_count": 425,
   "id": "47d84f5e-f706-4c1e-ba6d-fa98f9959a93",
   "metadata": {},
   "outputs": [],
   "source": [
    "sub = pd.read_csv('../data/olfaction_mixture/Leaderboard_set_Submission_form.csv')\n",
    "sub['Predicted_Experimental_Values'] = p\n",
    "sub.to_csv('../results/submissions/smellformer-lead.csv', index=False)"
   ]
  },
  {
   "cell_type": "code",
   "execution_count": 426,
   "id": "26cdbd5f-b077-4958-bbc2-bdcada8e30c9",
   "metadata": {},
   "outputs": [],
   "source": [
    "p, t = predict(model, test_dataloader)\n",
    "p = np.concatenate(p)\n",
    "t = np.concatenate(t)"
   ]
  },
  {
   "cell_type": "code",
   "execution_count": 427,
   "id": "a9e95fb2-9c25-41df-94ce-427aef9d5b86",
   "metadata": {},
   "outputs": [],
   "source": [
    "sub = pd.read_csv('../data/olfaction_mixture/Test_set_Submission_form.csv')\n",
    "sub['Predicted_Experimental_Values'] = p\n",
    "sub.to_csv('../results/submissions/smellformer-test.csv', index=False)"
   ]
  },
  {
   "cell_type": "code",
   "execution_count": 433,
   "id": "0bdf4cf8-1602-4937-bc40-57d32a9ef526",
   "metadata": {},
   "outputs": [],
   "source": [
    "a = pd.read_csv('../results/submissions/first-version-lead.csv')\n",
    "b = pd.read_csv('../results/submissions/smellformer-lead.csv')"
   ]
  },
  {
   "cell_type": "code",
   "execution_count": 434,
   "id": "65c3dd18-e691-4707-8220-e6b608683cab",
   "metadata": {},
   "outputs": [
    {
     "data": {
      "text/plain": [
       "PearsonRResult(statistic=0.4639698901298515, pvalue=0.001163068299490696)"
      ]
     },
     "execution_count": 434,
     "metadata": {},
     "output_type": "execute_result"
    },
    {
     "data": {
      "image/png": "[encoded data removed]",
      "text/plain": [
       "<Figure size 640x480 with 1 Axes>"
      ]
     },
     "metadata": {},
     "output_type": "display_data"
    }
   ],
   "source": [
    "sns.scatterplot(x=a['Predicted_Experimental_Values'],\n",
    "                y=b['Predicted_Experimental_Values'])\n",
    "pearsonr(x=a['Predicted_Experimental_Values'],\n",
    "                y=b['Predicted_Experimental_Values'])"
   ]
  },
  {
   "cell_type": "code",
   "execution_count": 436,
   "id": "05168e31-ac7d-4a0c-b66e-a61cfde309a9",
   "metadata": {},
   "outputs": [],
   "source": [
    "a['Predicted_Experimental_Values'] = (a['Predicted_Experimental_Values'] + b['Predicted_Experimental_Values']) / 2"
   ]
  },
  {
   "cell_type": "code",
   "execution_count": 437,
   "id": "ee534ab2-f271-40e9-ad8b-be9fe9a6a0a8",
   "metadata": {},
   "outputs": [],
   "source": [
    "a.to_csv('../results/submissions/ensemble-lead.csv')"
   ]
  },
  {
   "cell_type": "code",
   "execution_count": null,
   "id": "38ba071c-aefc-4ec8-b039-209b91a3510b",
   "metadata": {},
   "outputs": [],
   "source": []
  }
 ],
 "metadata": {
  "kernelspec": {
   "display_name": "Python (pytorch-metal)",
   "language": "python",
   "name": "pytorch"
  },
  "language_info": {
   "codemirror_mode": {
    "name": "ipython",
    "version": 3
   },
   "file_extension": ".py",
   "mimetype": "text/x-python",
   "name": "python",
   "nbconvert_exporter": "python",
   "pygments_lexer": "ipython3",
   "version": "3.10.7"
  }
 },
 "nbformat": 4,
 "nbformat_minor": 5
}
